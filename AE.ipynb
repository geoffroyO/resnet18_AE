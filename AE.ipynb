{
 "cells": [
  {
   "cell_type": "code",
   "execution_count": 17,
   "id": "561f483f",
   "metadata": {},
   "outputs": [
    {
     "name": "stdout",
     "output_type": "stream",
     "text": [
      "The autoreload extension is already loaded. To reload it, use:\n",
      "  %reload_ext autoreload\n"
     ]
    }
   ],
   "source": [
    "%load_ext autoreload\n",
    "%autoreload 2"
   ]
  },
  {
   "cell_type": "code",
   "execution_count": 24,
   "id": "ae7b3450",
   "metadata": {},
   "outputs": [],
   "source": [
    "from train import TrainerAE\n",
    "from preprocess import get_data"
   ]
  },
  {
   "cell_type": "code",
   "execution_count": 25,
   "id": "91a53a74",
   "metadata": {},
   "outputs": [],
   "source": [
    "class Args:\n",
    "    num_epochs=20\n",
    "    lr=1e-4\n",
    "    batch_size=1024\n",
    "    nb_channels=3\n",
    "    main_path='/Users/geoffroy/Documents/dataG/PPMI_longi/'\n",
    "    patch_size=64\n",
    "    fold=0\n",
    "    "
   ]
  },
  {
   "cell_type": "code",
   "execution_count": 26,
   "id": "059bccc1",
   "metadata": {},
   "outputs": [
    {
     "name": "stderr",
     "output_type": "stream",
     "text": [
      "100%|███████████████████████████████████████████████████████████████████████████████████| 64/64 [00:29<00:00,  2.18it/s]\n"
     ]
    }
   ],
   "source": [
    "args = Args()\n",
    "data_loader = get_data(args)"
   ]
  },
  {
   "cell_type": "code",
   "execution_count": 27,
   "id": "3081a5a9",
   "metadata": {},
   "outputs": [
    {
     "data": {
      "text/plain": [
       "72042"
      ]
     },
     "execution_count": 27,
     "metadata": {},
     "output_type": "execute_result"
    }
   ],
   "source": [
    "len(data_loader)"
   ]
  },
  {
   "cell_type": "code",
   "execution_count": 28,
   "id": "50a87c13",
   "metadata": {},
   "outputs": [
    {
     "data": {
      "text/plain": [
       "73771008"
      ]
     },
     "execution_count": 28,
     "metadata": {},
     "output_type": "execute_result"
    }
   ],
   "source": [
    "72042*1024"
   ]
  },
  {
   "cell_type": "code",
   "execution_count": null,
   "id": "c813ca32",
   "metadata": {},
   "outputs": [],
   "source": [
    "device = torch.device('cuda' if torch.cuda.is_available() else 'cpu')\n",
    "trainer = TrainerAE(args, data_loader, device)\n",
    "trainer.train()"
   ]
  }
 ],
 "metadata": {
  "kernelspec": {
   "display_name": "Python [conda env:online]",
   "language": "python",
   "name": "conda-env-online-py"
  },
  "language_info": {
   "codemirror_mode": {
    "name": "ipython",
    "version": 3
   },
   "file_extension": ".py",
   "mimetype": "text/x-python",
   "name": "python",
   "nbconvert_exporter": "python",
   "pygments_lexer": "ipython3",
   "version": "3.10.10"
  }
 },
 "nbformat": 4,
 "nbformat_minor": 5
}
