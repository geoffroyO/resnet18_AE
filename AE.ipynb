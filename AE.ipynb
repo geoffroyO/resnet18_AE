{
 "cells": [
  {
   "cell_type": "code",
   "execution_count": 1,
   "id": "561f483f",
   "metadata": {},
   "outputs": [],
   "source": [
    "%load_ext autoreload\n",
    "%autoreload 2"
   ]
  },
  {
   "cell_type": "code",
   "execution_count": 2,
   "id": "ae7b3450",
   "metadata": {},
   "outputs": [],
   "source": [
    "from train import TrainerAE\n",
    "from preprocess import get_data"
   ]
  },
  {
   "cell_type": "code",
   "execution_count": null,
   "id": "91a53a74",
   "metadata": {},
   "outputs": [],
   "source": [
    "class Args:\n",
    "    num_epochs=20\n",
    "    lr=1e-4\n",
    "    batch_size=1024\n",
    "    nb_channels=3\n",
    "    main_path='/Users/geoffroy/Documents/dataG/PPMI_longi/'\n",
    "    patch_size=64\n",
    "    fold=0\n",
    "    "
   ]
  },
  {
   "cell_type": "code",
   "execution_count": null,
   "id": "059bccc1",
   "metadata": {},
   "outputs": [],
   "source": [
    "args = Args()\n",
    "data_loader = get_data(args)"
   ]
  },
  {
   "cell_type": "code",
   "execution_count": null,
   "id": "c813ca32",
   "metadata": {},
   "outputs": [],
   "source": [
    "device = torch.device('cuda' if torch.cuda.is_available() else 'cpu')\n",
    "trainer = TrainerAE(args, data_loader, device)\n",
    "trainer.train()"
   ]
  },
  {
   "cell_type": "code",
   "execution_count": 16,
   "id": "b732f91c",
   "metadata": {},
   "outputs": [
    {
     "data": {
      "text/plain": [
       "torch.Tensor"
      ]
     },
     "execution_count": 16,
     "metadata": {},
     "output_type": "execute_result"
    }
   ],
   "source": [
    "type(Variable(torch.tensor(4)))"
   ]
  },
  {
   "cell_type": "code",
   "execution_count": 11,
   "id": "c9362148",
   "metadata": {},
   "outputs": [],
   "source": [
    "from torch.autograd import Variable"
   ]
  }
 ],
 "metadata": {
  "kernelspec": {
   "display_name": "Python [conda env:online]",
   "language": "python",
   "name": "conda-env-online-py"
  },
  "language_info": {
   "codemirror_mode": {
    "name": "ipython",
    "version": 3
   },
   "file_extension": ".py",
   "mimetype": "text/x-python",
   "name": "python",
   "nbconvert_exporter": "python",
   "pygments_lexer": "ipython3",
   "version": "3.10.10"
  }
 },
 "nbformat": 4,
 "nbformat_minor": 5
}
